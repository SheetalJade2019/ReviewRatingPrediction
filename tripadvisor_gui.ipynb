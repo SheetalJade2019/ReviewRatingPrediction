{
 "cells": [
  {
   "cell_type": "code",
   "execution_count": 103,
   "metadata": {},
   "outputs": [],
   "source": [
    "# Import pandas\n",
    "import pandas as pd"
   ]
  },
  {
   "cell_type": "code",
   "execution_count": 104,
   "metadata": {},
   "outputs": [
    {
     "data": {
      "text/html": [
       "<div>\n",
       "<style scoped>\n",
       "    .dataframe tbody tr th:only-of-type {\n",
       "        vertical-align: middle;\n",
       "    }\n",
       "\n",
       "    .dataframe tbody tr th {\n",
       "        vertical-align: top;\n",
       "    }\n",
       "\n",
       "    .dataframe thead th {\n",
       "        text-align: right;\n",
       "    }\n",
       "</style>\n",
       "<table border=\"1\" class=\"dataframe\">\n",
       "  <thead>\n",
       "    <tr style=\"text-align: right;\">\n",
       "      <th></th>\n",
       "      <th>Review</th>\n",
       "      <th>Rating</th>\n",
       "    </tr>\n",
       "  </thead>\n",
       "  <tbody>\n",
       "    <tr>\n",
       "      <th>0</th>\n",
       "      <td>nice hotel expensive parking got good deal sta...</td>\n",
       "      <td>4</td>\n",
       "    </tr>\n",
       "    <tr>\n",
       "      <th>1</th>\n",
       "      <td>ok nothing special charge diamond member hilto...</td>\n",
       "      <td>2</td>\n",
       "    </tr>\n",
       "  </tbody>\n",
       "</table>\n",
       "</div>"
      ],
      "text/plain": [
       "                                              Review  Rating\n",
       "0  nice hotel expensive parking got good deal sta...       4\n",
       "1  ok nothing special charge diamond member hilto...       2"
      ]
     },
     "execution_count": 104,
     "metadata": {},
     "output_type": "execute_result"
    }
   ],
   "source": [
    "data=pd.read_csv('E:\\\\ML\\\\AISS\\\\trip_advisor_4_0211\\\\tripadvisor_hotel_reviews.csv')\n",
    "data.head(2)"
   ]
  },
  {
   "cell_type": "code",
   "execution_count": 105,
   "metadata": {},
   "outputs": [
    {
     "name": "stdout",
     "output_type": "stream",
     "text": [
      "<class 'pandas.core.frame.DataFrame'>\n",
      "RangeIndex: 20491 entries, 0 to 20490\n",
      "Data columns (total 2 columns):\n",
      "Review    20491 non-null object\n",
      "Rating    20491 non-null int64\n",
      "dtypes: int64(1), object(1)\n",
      "memory usage: 320.2+ KB\n"
     ]
    }
   ],
   "source": [
    "data.info()"
   ]
  },
  {
   "cell_type": "code",
   "execution_count": 106,
   "metadata": {},
   "outputs": [
    {
     "data": {
      "text/plain": [
       "5    9054\n",
       "4    6039\n",
       "3    2184\n",
       "2    1793\n",
       "1    1421\n",
       "Name: Rating, dtype: int64"
      ]
     },
     "execution_count": 106,
     "metadata": {},
     "output_type": "execute_result"
    }
   ],
   "source": [
    "data.Rating.value_counts()"
   ]
  },
  {
   "cell_type": "code",
   "execution_count": 119,
   "metadata": {},
   "outputs": [
    {
     "name": "stdout",
     "output_type": "stream",
     "text": [
      "5    9054\n",
      "4    9054\n",
      "3    9054\n",
      "2    9054\n",
      "1    9054\n",
      "Name: Rating, dtype: int64\n"
     ]
    }
   ],
   "source": [
    "count_class_5, count_class_4, count_class_3, count_class_2, count_class_1 = data.Rating.value_counts()\n",
    "\n",
    "data_class_1 =  data[data['Rating'] == 1]\n",
    "data_class_2 = data[data['Rating'] == 2]\n",
    "data_class_3 = data[data['Rating'] == 3]\n",
    "data_class_4 = data[data['Rating'] == 4]\n",
    "data_class_5 = data[data['Rating'] == 5]\n",
    "\n",
    "\n",
    "data_class_1_over = data_class_1.sample(count_class_5, replace=True)\n",
    "data_class_2_over = data_class_2.sample(count_class_5, replace=True)\n",
    "data_class_3_over = data_class_3.sample(count_class_5, replace=True)\n",
    "data_class_4_over = data_class_4.sample(count_class_5, replace=True)\n",
    "data_class_5_over = data_class_5.sample(count_class_5, replace=True)\n",
    "data_test_over = pd.concat([ data_class_1_over, data_class_2_over, data_class_3_over, data_class_4_over, data_class_5_over], axis=0)\n",
    "data = data_test_over\n",
    "# print(\"_ _ _ _ _ _ _ _ _\")\n",
    "# print('After Random over-sampling:')\n",
    "print(data_test_over.Rating.value_counts())\n",
    "# print(\"_ _ _ _ _ _ _ _ _\")\n",
    "# df_test_over.Rating.value_counts().plot(kind='bar', title='Count (Rating)');\n"
   ]
  },
  {
   "cell_type": "code",
   "execution_count": 120,
   "metadata": {},
   "outputs": [],
   "source": [
    "from sklearn.feature_extraction.text import CountVectorizer\n",
    "from nltk.tokenize import RegexpTokenizer\n",
    "#tokenizer to remove unwanted elements from out data like symbols and numbers\n",
    "token = RegexpTokenizer(r'[a-zA-Z0-9]+')\n",
    "cv = CountVectorizer()\n",
    "#cv.vocabulary_\n",
    "cv = CountVectorizer(lowercase=True, stop_words='english',ngram_range = (1,1),tokenizer = token.tokenize)\n",
    "voc = cv.vocabulary\n",
    "text_counts= cv.fit_transform(data['Review'])\n"
   ]
  },
  {
   "cell_type": "code",
   "execution_count": 121,
   "metadata": {},
   "outputs": [],
   "source": [
    "from sklearn.model_selection import train_test_split\n",
    "X_train, X_test, y_train, y_test = train_test_split(text_counts, data['Rating'], test_size=0.3, random_state=1)"
   ]
  },
  {
   "cell_type": "code",
   "execution_count": 122,
   "metadata": {},
   "outputs": [
    {
     "name": "stdout",
     "output_type": "stream",
     "text": [
      "MultinomialNB Accuracy: 0.7944186731463073\n",
      "[[2581  109   52   23   11]\n",
      " [ 175 2184  232   86   38]\n",
      " [  74   89 2108  287  116]\n",
      " [  22   89  189 1734  674]\n",
      " [   9   20   63  434 2182]]\n"
     ]
    }
   ],
   "source": [
    "from sklearn.naive_bayes import MultinomialNB\n",
    "#Import scikit-learn metrics module for accuracy calculation\n",
    "from sklearn import metrics\n",
    "# Model Generation Using Multinomial Naive Bayes\n",
    "clf = MultinomialNB().fit(X_train, y_train)#text_counts, data['Rating'])#(x,y)\n",
    "predicted= clf.predict(X_test)\n",
    "print(\"MultinomialNB Accuracy:\",metrics.accuracy_score(y_test, predicted))\n",
    "print(metrics.confusion_matrix(y_test, predicted))"
   ]
  },
  {
   "cell_type": "code",
   "execution_count": 123,
   "metadata": {},
   "outputs": [
    {
     "data": {
      "text/plain": [
       "scipy.sparse.csr.csr_matrix"
      ]
     },
     "execution_count": 123,
     "metadata": {},
     "output_type": "execute_result"
    }
   ],
   "source": [
    "type(X_test)"
   ]
  },
  {
   "cell_type": "code",
   "execution_count": 177,
   "metadata": {},
   "outputs": [],
   "source": [
    "\n",
    "import tkinter as tk\n",
    "import matplotlib.pyplot as plt\n",
    "from tkinter import *\n",
    "from matplotlib.backends.backend_tkagg import FigureCanvasTkAgg\n",
    "#from tkinter import clear_widget_text\n",
    "\n",
    "# tkinter gui\n",
    "root = tk.Tk()\n",
    "root.title(\"AIS SOLUTIONS PVT LTD\")\n",
    "canvas1 = tk.Canvas(root, width=600, height=300)\n",
    "canvas1.pack()\n",
    "#labels and input boxes\n",
    "\n",
    "label0 = tk.Label(root,text=\"REVIEW RATING PREDICTION SYSTEM\", font=('Arial',15,'bold','underline'))#,\"underline\")\n",
    "canvas1.create_window(300,40,window=label0)\n",
    "#label0.config(font=(\"Times\",20))\n",
    "\n",
    "# 1\n",
    "label1 = tk.Label(root,text=\"Enter Your Review Here\",font=('Arial',12)).place(x=50,y=100)\n",
    "canvas1.create_window(50,100,window=label1)\n",
    "#label1.config(font=(\"Times\",18))\n",
    "\n",
    "entry1 = tk.Entry(root,width=55, font=('Arial',12))#.place()\n",
    "entry1.place(x=300,y=140)\n",
    "#entry1.pack()\n",
    "# entryBox = Entry(root, width=60)\n",
    "# entryBox.grid(row=2, column=1, sticky=W)\n",
    "canvas1.create_window(300,140,window=entry1)\n",
    "#entry1.config(font=(\"Times\",18))\n",
    "\n",
    "# get review\n",
    "def values():\n",
    "    \n",
    "    #cv = CountVectorizer()\n",
    "    #vocab=cv.vocabulary\n",
    "    #cv = CountVectorizer(vocabulary=vocab)\n",
    "    global review\n",
    "    review = [entry1.get()]\n",
    "    test_vector = cv.transform(review)\n",
    "    #review =cv.transform(review)\n",
    "    #print(review)       \n",
    "    res = clf.predict(test_vector)\n",
    "    if res == 1:\n",
    "        res=\"*\"\n",
    "    elif res == 2 :\n",
    "        res = \"* *\"\n",
    "    elif res == 3 :\n",
    "        res = \"* * *\"\n",
    "    elif res == 4 :\n",
    "        res = \"* * * *\"\n",
    "    else:\n",
    "        res = \"* * * * *\"\n",
    "    \n",
    "    \n",
    "    prediction_res = (\"Result : \", res)\n",
    "    label_prediction = tk.Label(root, text=prediction_res, font=('Arial',12,'bold'))\n",
    "    canvas1.create_window(300,180,window=label_prediction)\n",
    "    \n",
    "    def clear_widget_text(widget):\n",
    "        widget['text'] = \"\"\n",
    "    \n",
    "    button2 = tk.Button(root, text=\"Clear Result\",font=('Arial',12), command=lambda : clear_widget_text(label_prediction))\n",
    "    canvas1.create_window(125,220,window=button2)\n",
    "    \n",
    "\n",
    "    \n",
    "    \n",
    "button1 = tk.Button(root, text=\"Predict Rating\",font=('Arial',12), command=values)\n",
    "canvas1.create_window(125,180,window=button1)\n",
    "\n",
    "\n",
    "#button1.config(font=(\"Times\",18))\n",
    "root.resizable(0,0)\n",
    "root.mainloop()\n"
   ]
  },
  {
   "cell_type": "code",
   "execution_count": null,
   "metadata": {},
   "outputs": [],
   "source": []
  }
 ],
 "metadata": {
  "kernelspec": {
   "display_name": "Python 3",
   "language": "python",
   "name": "python3"
  },
  "language_info": {
   "codemirror_mode": {
    "name": "ipython",
    "version": 3
   },
   "file_extension": ".py",
   "mimetype": "text/x-python",
   "name": "python",
   "nbconvert_exporter": "python",
   "pygments_lexer": "ipython3",
   "version": "3.7.2"
  }
 },
 "nbformat": 4,
 "nbformat_minor": 2
}

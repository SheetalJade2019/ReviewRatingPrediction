{
 "cells": [
  {
   "cell_type": "code",
   "execution_count": 10,
   "metadata": {},
   "outputs": [],
   "source": [
    "# Import pandas\n",
    "import pandas as pd\n",
    "import nltk"
   ]
  },
  {
   "cell_type": "code",
   "execution_count": 2,
   "metadata": {},
   "outputs": [
    {
     "data": {
      "text/html": [
       "<div>\n",
       "<style scoped>\n",
       "    .dataframe tbody tr th:only-of-type {\n",
       "        vertical-align: middle;\n",
       "    }\n",
       "\n",
       "    .dataframe tbody tr th {\n",
       "        vertical-align: top;\n",
       "    }\n",
       "\n",
       "    .dataframe thead th {\n",
       "        text-align: right;\n",
       "    }\n",
       "</style>\n",
       "<table border=\"1\" class=\"dataframe\">\n",
       "  <thead>\n",
       "    <tr style=\"text-align: right;\">\n",
       "      <th></th>\n",
       "      <th>Review</th>\n",
       "      <th>Rating</th>\n",
       "    </tr>\n",
       "  </thead>\n",
       "  <tbody>\n",
       "    <tr>\n",
       "      <th>0</th>\n",
       "      <td>nice hotel expensive parking got good deal sta...</td>\n",
       "      <td>4</td>\n",
       "    </tr>\n",
       "    <tr>\n",
       "      <th>1</th>\n",
       "      <td>ok nothing special charge diamond member hilto...</td>\n",
       "      <td>2</td>\n",
       "    </tr>\n",
       "  </tbody>\n",
       "</table>\n",
       "</div>"
      ],
      "text/plain": [
       "                                              Review  Rating\n",
       "0  nice hotel expensive parking got good deal sta...       4\n",
       "1  ok nothing special charge diamond member hilto...       2"
      ]
     },
     "execution_count": 2,
     "metadata": {},
     "output_type": "execute_result"
    }
   ],
   "source": [
    "data=pd.read_csv('E:\\\\ML\\\\AISS\\\\trip_advisor_4_0211\\\\tripadvisor_hotel_reviews.csv')\n",
    "data.head(2)"
   ]
  },
  {
   "cell_type": "code",
   "execution_count": 14,
   "metadata": {},
   "outputs": [
    {
     "name": "stdout",
     "output_type": "stream",
     "text": [
      "<class 'pandas.core.frame.DataFrame'>\n",
      "Int64Index: 45270 entries, 18667 to 13536\n",
      "Data columns (total 2 columns):\n",
      "Review    45270 non-null object\n",
      "Rating    45270 non-null int64\n",
      "dtypes: int64(1), object(1)\n",
      "memory usage: 1.0+ MB\n",
      "\n",
      " None\n",
      "\n",
      " (45270, 2)\n",
      "\n",
      " Review    0\n",
      "Rating    0\n",
      "dtype: int64\n"
     ]
    }
   ],
   "source": [
    "print(\"\\n\",data.info())\n",
    "print(\"\\n\",data.shape)\n",
    "print(\"\\n\",data.isnull().sum())"
   ]
  },
  {
   "cell_type": "code",
   "execution_count": 4,
   "metadata": {},
   "outputs": [
    {
     "data": {
      "text/plain": [
       "5    9054\n",
       "4    6039\n",
       "3    2184\n",
       "2    1793\n",
       "1    1421\n",
       "Name: Rating, dtype: int64"
      ]
     },
     "execution_count": 4,
     "metadata": {},
     "output_type": "execute_result"
    }
   ],
   "source": [
    "data.Rating.value_counts()"
   ]
  },
  {
   "cell_type": "code",
   "execution_count": 11,
   "metadata": {},
   "outputs": [
    {
     "data": {
      "text/plain": [
       "FreqDist({1: 9054, 2: 9054, 3: 9054, 4: 9054, 5: 9054})"
      ]
     },
     "execution_count": 11,
     "metadata": {},
     "output_type": "execute_result"
    }
   ],
   "source": [
    "nltk.FreqDist(data['Rating'])"
   ]
  },
  {
   "cell_type": "code",
   "execution_count": 5,
   "metadata": {},
   "outputs": [
    {
     "name": "stdout",
     "output_type": "stream",
     "text": [
      "5    9054\n",
      "4    9054\n",
      "3    9054\n",
      "2    9054\n",
      "1    9054\n",
      "Name: Rating, dtype: int64\n"
     ]
    }
   ],
   "source": [
    "count_class_5, count_class_4, count_class_3, count_class_2, count_class_1 = data.Rating.value_counts()\n",
    "\n",
    "data_class_1 =  data[data['Rating'] == 1]\n",
    "data_class_2 = data[data['Rating'] == 2]\n",
    "data_class_3 = data[data['Rating'] == 3]\n",
    "data_class_4 = data[data['Rating'] == 4]\n",
    "data_class_5 = data[data['Rating'] == 5]\n",
    "\n",
    "\n",
    "data_class_1_over = data_class_1.sample(count_class_5, replace=True)\n",
    "data_class_2_over = data_class_2.sample(count_class_5, replace=True)\n",
    "data_class_3_over = data_class_3.sample(count_class_5, replace=True)\n",
    "data_class_4_over = data_class_4.sample(count_class_5, replace=True)\n",
    "data_class_5_over = data_class_5.sample(count_class_5, replace=True)\n",
    "data_test_over = pd.concat([ data_class_1_over, data_class_2_over, data_class_3_over, data_class_4_over, data_class_5_over], axis=0)\n",
    "data = data_test_over\n",
    "# print(\"_ _ _ _ _ _ _ _ _\")\n",
    "# print('After Random over-sampling:')\n",
    "print(data_test_over.Rating.value_counts())\n",
    "# print(\"_ _ _ _ _ _ _ _ _\")\n",
    "# df_test_over.Rating.value_counts().plot(kind='bar', title='Count (Rating)');\n"
   ]
  },
  {
   "cell_type": "code",
   "execution_count": 6,
   "metadata": {},
   "outputs": [],
   "source": [
    "from sklearn.feature_extraction.text import CountVectorizer\n",
    "from nltk.tokenize import RegexpTokenizer\n",
    "#tokenizer to remove unwanted elements from out data like symbols and numbers\n",
    "token = RegexpTokenizer(r'[a-zA-Z0-9]+')\n",
    "cv = CountVectorizer()\n",
    "#cv.vocabulary_\n",
    "cv = CountVectorizer(lowercase=True, stop_words='english',ngram_range = (1,1),tokenizer = token.tokenize)\n",
    "voc = cv.vocabulary\n",
    "text_counts= cv.fit_transform(data['Review'])\n"
   ]
  },
  {
   "cell_type": "code",
   "execution_count": 7,
   "metadata": {},
   "outputs": [],
   "source": [
    "from sklearn.model_selection import train_test_split\n",
    "X_train, X_test, y_train, y_test = train_test_split(text_counts, data['Rating'], test_size=0.3, random_state=1)"
   ]
  },
  {
   "cell_type": "code",
   "execution_count": 9,
   "metadata": {},
   "outputs": [
    {
     "name": "stdout",
     "output_type": "stream",
     "text": [
      "MultinomialNB Accuracy: 0.7852146380973418\n",
      "\n",
      " [[2531  120   84   25   16]\n",
      " [ 195 2147  246  102   25]\n",
      " [  85  126 2122  250   91]\n",
      " [  25   97  233 1690  663]\n",
      " [   7   34   69  424 2174]]\n"
     ]
    }
   ],
   "source": [
    "from sklearn.naive_bayes import MultinomialNB\n",
    "#Import scikit-learn metrics module for accuracy calculation\n",
    "from sklearn import metrics\n",
    "# Model Generation Using Multinomial Naive Bayes\n",
    "clf = MultinomialNB().fit(X_train, y_train)#text_counts, data['Rating'])#(x,y)\n",
    "predicted= clf.predict(X_test)\n",
    "print(\"MultinomialNB Accuracy:\",metrics.accuracy_score(y_test, predicted))\n",
    "print(\"\\n\",metrics.confusion_matrix(y_test, predicted))"
   ]
  },
  {
   "cell_type": "code",
   "execution_count": null,
   "metadata": {},
   "outputs": [],
   "source": []
  }
 ],
 "metadata": {
  "kernelspec": {
   "display_name": "Python 3",
   "language": "python",
   "name": "python3"
  },
  "language_info": {
   "codemirror_mode": {
    "name": "ipython",
    "version": 3
   },
   "file_extension": ".py",
   "mimetype": "text/x-python",
   "name": "python",
   "nbconvert_exporter": "python",
   "pygments_lexer": "ipython3",
   "version": "3.7.2"
  }
 },
 "nbformat": 4,
 "nbformat_minor": 2
}
